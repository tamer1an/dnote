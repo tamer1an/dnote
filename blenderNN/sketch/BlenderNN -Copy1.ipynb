{
 "cells": [
  {
   "cell_type": "code",
   "execution_count": null,
   "metadata": {},
   "outputs": [],
   "source": [
    "import pxssh\n",
    "import getpass\n",
    "try:                                                            \n",
    "    s = pxssh.pxssh()\n",
    "    hostname = raw_input('hostname: ')\n",
    "    username = raw_input('username: ')\n",
    "    password = getpass.getpass('password: ')\n",
    "    s.login (hostname, username, password)\n",
    "    s.sendline ('uptime')   # run a command\n",
    "    s.prompt()             # match the prompt\n",
    "    print s.before          # print everything before the prompt.\n",
    "    s.sendline ('ls -l')\n",
    "    s.prompt()\n",
    "    print s.before\n",
    "    s.sendline ('df')\n",
    "    s.prompt()\n",
    "    print s.before\n",
    "    s.logout()\n",
    "except pxssh.ExceptionPxssh, e:\n",
    "    print \"pxssh failed on login.\"\n",
    "    print str(e)"
   ]
  }
 ],
 "metadata": {
  "kernelspec": {
   "display_name": "Python 3",
   "language": "python",
   "name": "python3"
  },
  "language_info": {
   "codemirror_mode": {
    "name": "ipython",
    "version": 3
   },
   "file_extension": ".py",
   "mimetype": "text/x-python",
   "name": "python",
   "nbconvert_exporter": "python",
   "pygments_lexer": "ipython3",
   "version": "3.6.3"
  }
 },
 "nbformat": 4,
 "nbformat_minor": 2
}
