{
 "cells": [
  {
   "cell_type": "markdown",
   "metadata": {
    "heading_collapsed": true
   },
   "source": [
    "# Preparing model"
   ]
  },
  {
   "cell_type": "markdown",
   "metadata": {
    "hidden": true
   },
   "source": [
    "#### Import modules"
   ]
  },
  {
   "cell_type": "code",
   "execution_count": 2,
   "metadata": {
    "hidden": true
   },
   "outputs": [
    {
     "name": "stderr",
     "output_type": "stream",
     "text": [
      "Using TensorFlow backend.\n"
     ]
    }
   ],
   "source": [
    " import keras"
   ]
  },
  {
   "cell_type": "code",
   "execution_count": 4,
   "metadata": {
    "hidden": true
   },
   "outputs": [],
   "source": [
    "import numpy as np\n",
    "import matplotlib.pyplot as plt\n",
    "import pandas as pd"
   ]
  },
  {
   "cell_type": "code",
   "execution_count": 3,
   "metadata": {
    "hidden": true
   },
   "outputs": [],
   "source": [
    "from keras.models import Sequential\n",
    "from keras.layers import Dense"
   ]
  },
  {
   "cell_type": "code",
   "execution_count": 41,
   "metadata": {
    "hidden": true
   },
   "outputs": [],
   "source": [
    "from sklearn.model_selection import train_test_split\n",
    "from sklearn.preprocessing import LabelEncoder, OneHotEncoder, StandardScaler"
   ]
  },
  {
   "cell_type": "markdown",
   "metadata": {
    "heading_collapsed": true,
    "hidden": true
   },
   "source": [
    "#### y - inspected value, x - data model"
   ]
  },
  {
   "cell_type": "code",
   "execution_count": 26,
   "metadata": {
    "hidden": true
   },
   "outputs": [],
   "source": [
    "dataset = pd.read_csv('/home/jovyan/work/note/ML/NN/Churn_Modelling.csv')"
   ]
  },
  {
   "cell_type": "code",
   "execution_count": 29,
   "metadata": {
    "hidden": true
   },
   "outputs": [],
   "source": [
    "X = dataset.iloc[:, 3:13].values\n",
    "y = dataset.iloc[:, 13].values"
   ]
  },
  {
   "cell_type": "code",
   "execution_count": 30,
   "metadata": {
    "hidden": true
   },
   "outputs": [
    {
     "name": "stdout",
     "output_type": "stream",
     "text": [
      "      RowNumber  CustomerId         Surname  CreditScore Geography  Gender  \\\n",
      "0             1    15634602        Hargrave          619    France  Female   \n",
      "1             2    15647311            Hill          608     Spain  Female   \n",
      "2             3    15619304            Onio          502    France  Female   \n",
      "3             4    15701354            Boni          699    France  Female   \n",
      "4             5    15737888        Mitchell          850     Spain  Female   \n",
      "5             6    15574012             Chu          645     Spain    Male   \n",
      "6             7    15592531        Bartlett          822    France    Male   \n",
      "7             8    15656148          Obinna          376   Germany  Female   \n",
      "8             9    15792365              He          501    France    Male   \n",
      "9            10    15592389              H?          684    France    Male   \n",
      "10           11    15767821          Bearce          528    France    Male   \n",
      "11           12    15737173         Andrews          497     Spain    Male   \n",
      "12           13    15632264             Kay          476    France  Female   \n",
      "13           14    15691483            Chin          549    France  Female   \n",
      "14           15    15600882           Scott          635     Spain  Female   \n",
      "15           16    15643966         Goforth          616   Germany    Male   \n",
      "16           17    15737452           Romeo          653   Germany    Male   \n",
      "17           18    15788218       Henderson          549     Spain  Female   \n",
      "18           19    15661507         Muldrow          587     Spain    Male   \n",
      "19           20    15568982             Hao          726    France  Female   \n",
      "20           21    15577657        McDonald          732    France    Male   \n",
      "21           22    15597945        Dellucci          636     Spain  Female   \n",
      "22           23    15699309       Gerasimov          510     Spain  Female   \n",
      "23           24    15725737          Mosman          669    France    Male   \n",
      "24           25    15625047             Yen          846    France  Female   \n",
      "25           26    15738191         Maclean          577    France    Male   \n",
      "26           27    15736816           Young          756   Germany    Male   \n",
      "27           28    15700772         Nebechi          571    France    Male   \n",
      "28           29    15728693      McWilliams          574   Germany  Female   \n",
      "29           30    15656300        Lucciano          411    France    Male   \n",
      "...         ...         ...             ...          ...       ...     ...   \n",
      "9970       9971    15587133        Thompson          518    France    Male   \n",
      "9971       9972    15721377            Chou          833    France  Female   \n",
      "9972       9973    15747927           Ch'in          758    France    Male   \n",
      "9973       9974    15806455          Miller          611    France    Male   \n",
      "9974       9975    15695474          Barker          583    France    Male   \n",
      "9975       9976    15666295           Smith          610   Germany    Male   \n",
      "9976       9977    15656062         Azikiwe          637    France  Female   \n",
      "9977       9978    15579969         Mancini          683    France  Female   \n",
      "9978       9979    15703563           P'eng          774    France    Male   \n",
      "9979       9980    15692664          Diribe          677    France  Female   \n",
      "9980       9981    15719276            T'ao          741     Spain    Male   \n",
      "9981       9982    15672754        Burbidge          498   Germany    Male   \n",
      "9982       9983    15768163         Griffin          655   Germany  Female   \n",
      "9983       9984    15656710           Cocci          613    France    Male   \n",
      "9984       9985    15696175  Echezonachukwu          602   Germany    Male   \n",
      "9985       9986    15586914          Nepean          659    France    Male   \n",
      "9986       9987    15581736        Bartlett          673   Germany    Male   \n",
      "9987       9988    15588839         Mancini          606     Spain    Male   \n",
      "9988       9989    15589329         Pirozzi          775    France    Male   \n",
      "9989       9990    15605622        McMillan          841     Spain    Male   \n",
      "9990       9991    15798964      Nkemakonam          714   Germany    Male   \n",
      "9991       9992    15769959     Ajuluchukwu          597    France  Female   \n",
      "9992       9993    15657105     Chukwualuka          726     Spain    Male   \n",
      "9993       9994    15569266          Rahman          644    France    Male   \n",
      "9994       9995    15719294            Wood          800    France  Female   \n",
      "9995       9996    15606229        Obijiaku          771    France    Male   \n",
      "9996       9997    15569892       Johnstone          516    France    Male   \n",
      "9997       9998    15584532             Liu          709    France  Female   \n",
      "9998       9999    15682355       Sabbatini          772   Germany    Male   \n",
      "9999      10000    15628319          Walker          792    France  Female   \n",
      "\n",
      "      Age  Tenure    Balance  NumOfProducts  HasCrCard  IsActiveMember  \\\n",
      "0      42       2       0.00              1          1               1   \n",
      "1      41       1   83807.86              1          0               1   \n",
      "2      42       8  159660.80              3          1               0   \n",
      "3      39       1       0.00              2          0               0   \n",
      "4      43       2  125510.82              1          1               1   \n",
      "5      44       8  113755.78              2          1               0   \n",
      "6      50       7       0.00              2          1               1   \n",
      "7      29       4  115046.74              4          1               0   \n",
      "8      44       4  142051.07              2          0               1   \n",
      "9      27       2  134603.88              1          1               1   \n",
      "10     31       6  102016.72              2          0               0   \n",
      "11     24       3       0.00              2          1               0   \n",
      "12     34      10       0.00              2          1               0   \n",
      "13     25       5       0.00              2          0               0   \n",
      "14     35       7       0.00              2          1               1   \n",
      "15     45       3  143129.41              2          0               1   \n",
      "16     58       1  132602.88              1          1               0   \n",
      "17     24       9       0.00              2          1               1   \n",
      "18     45       6       0.00              1          0               0   \n",
      "19     24       6       0.00              2          1               1   \n",
      "20     41       8       0.00              2          1               1   \n",
      "21     32       8       0.00              2          1               0   \n",
      "22     38       4       0.00              1          1               0   \n",
      "23     46       3       0.00              2          0               1   \n",
      "24     38       5       0.00              1          1               1   \n",
      "25     25       3       0.00              2          0               1   \n",
      "26     36       2  136815.64              1          1               1   \n",
      "27     44       9       0.00              2          0               0   \n",
      "28     43       3  141349.43              1          1               1   \n",
      "29     29       0   59697.17              2          1               1   \n",
      "...   ...     ...        ...            ...        ...             ...   \n",
      "9970   42       7  151027.05              2          1               0   \n",
      "9971   34       3  144751.81              1          0               0   \n",
      "9972   26       4  155739.76              1          1               0   \n",
      "9973   27       7       0.00              2          1               1   \n",
      "9974   33       7  122531.86              1          1               0   \n",
      "9975   50       1  113957.01              2          1               0   \n",
      "9976   33       7  103377.81              1          1               0   \n",
      "9977   32       9       0.00              2          1               1   \n",
      "9978   40       9   93017.47              2          1               0   \n",
      "9979   58       1   90022.85              1          0               1   \n",
      "9980   35       6   74371.49              1          0               0   \n",
      "9981   42       3  152039.70              1          1               1   \n",
      "9982   46       7  137145.12              1          1               0   \n",
      "9983   40       4       0.00              1          0               0   \n",
      "9984   35       7   90602.42              2          1               1   \n",
      "9985   36       6  123841.49              2          1               0   \n",
      "9986   47       1  183579.54              2          0               1   \n",
      "9987   30       8  180307.73              2          1               1   \n",
      "9988   30       4       0.00              2          1               0   \n",
      "9989   28       4       0.00              2          1               1   \n",
      "9990   33       3   35016.60              1          1               0   \n",
      "9991   53       4   88381.21              1          1               0   \n",
      "9992   36       2       0.00              1          1               0   \n",
      "9993   28       7  155060.41              1          1               0   \n",
      "9994   29       2       0.00              2          0               0   \n",
      "9995   39       5       0.00              2          1               0   \n",
      "9996   35      10   57369.61              1          1               1   \n",
      "9997   36       7       0.00              1          0               1   \n",
      "9998   42       3   75075.31              2          1               0   \n",
      "9999   28       4  130142.79              1          1               0   \n",
      "\n",
      "      EstimatedSalary  Exited  \n",
      "0           101348.88       1  \n",
      "1           112542.58       0  \n",
      "2           113931.57       1  \n",
      "3            93826.63       0  \n",
      "4            79084.10       0  \n",
      "5           149756.71       1  \n",
      "6            10062.80       0  \n",
      "7           119346.88       1  \n",
      "8            74940.50       0  \n",
      "9            71725.73       0  \n",
      "10           80181.12       0  \n",
      "11           76390.01       0  \n",
      "12           26260.98       0  \n",
      "13          190857.79       0  \n",
      "14           65951.65       0  \n",
      "15           64327.26       0  \n",
      "16            5097.67       1 "
     ]
    },
    {
     "data": {
      "text/html": [
       "<b>limit_output extension: Maximum message size of 10000 exceeded with 11437 characters</b>"
      ]
     },
     "metadata": {},
     "output_type": "display_data"
    }
   ],
   "source": [
    "print(dataset)"
   ]
  },
  {
   "cell_type": "markdown",
   "metadata": {
    "heading_collapsed": true,
    "hidden": true
   },
   "source": [
    "#### Encoding categorical data"
   ]
  },
  {
   "cell_type": "code",
   "execution_count": 38,
   "metadata": {
    "hidden": true
   },
   "outputs": [],
   "source": [
    "labelEncoder_X_1 = LabelEncoder()\n",
    "X[:, 1] = labelEncoder_X_1.fit_transform(X[:, 1])\n",
    "labelEncoder_X_2 = LabelEncoder()\n",
    "X[:, 2] = labelEncoder_X_2.fit_transform(X[:, 2])\n",
    "\n",
    "oneHotEncoder = OneHotEncoder(categorical_features=[1])\n",
    "X = oneHotEncoder.fit_transform(X).toarray()\n",
    "X = X[:, 1:]"
   ]
  },
  {
   "cell_type": "code",
   "execution_count": 40,
   "metadata": {
    "hidden": true
   },
   "outputs": [],
   "source": [
    "#print(X)"
   ]
  },
  {
   "cell_type": "markdown",
   "metadata": {
    "heading_collapsed": true,
    "hidden": true
   },
   "source": [
    "#### Splitting dataset Training set and Test set"
   ]
  },
  {
   "cell_type": "code",
   "execution_count": 44,
   "metadata": {
    "hidden": true
   },
   "outputs": [],
   "source": [
    "X_train, X_test, y_train, y_test = train_test_split(X, y, test_size=0.2, random_state=0)"
   ]
  },
  {
   "cell_type": "markdown",
   "metadata": {
    "heading_collapsed": true,
    "hidden": true
   },
   "source": [
    "#### Feature scaling"
   ]
  },
  {
   "cell_type": "code",
   "execution_count": 45,
   "metadata": {
    "hidden": true
   },
   "outputs": [],
   "source": [
    "sc = StandardScaler()\n",
    "X_train = sc.fit_transform(X_train)\n",
    "X_test = sc.transform(X_test)"
   ]
  },
  {
   "cell_type": "code",
   "execution_count": 49,
   "metadata": {
    "hidden": true
   },
   "outputs": [
    {
     "name": "stdout",
     "output_type": "stream",
     "text": [
      "[[ 1.75486502 -0.57369368 -0.55204276 ...,  0.64259497  0.9687384\n",
      "   1.61085707]\n",
      " [-0.5698444  -0.57369368 -1.31490297 ...,  0.64259497 -1.03227043\n",
      "   0.49587037]\n",
      " [-0.5698444   1.74309049  0.57162971 ...,  0.64259497  0.9687384\n",
      "  -0.42478674]\n",
      " ..., \n",
      " [-0.5698444   1.74309049 -0.74791227 ...,  0.64259497 -1.03227043\n",
      "   0.71888467]\n",
      " [ 1.75486502 -0.57369368 -0.00566991 ...,  0.64259497  0.9687384\n",
      "  -1.54507805]\n",
      " [ 1.75486502 -0.57369368 -0.79945688 ...,  0.64259497 -1.03227043\n",
      "   1.61255917]]\n"
     ]
    }
   ],
   "source": [
    " print(X_test)"
   ]
  },
  {
   "cell_type": "markdown",
   "metadata": {},
   "source": [
    "# _Create Classifier_"
   ]
  },
  {
   "cell_type": "markdown",
   "metadata": {},
   "source": [
    "#### Predict test result"
   ]
  },
  {
   "cell_type": "code",
   "execution_count": 50,
   "metadata": {},
   "outputs": [],
   "source": [
    "classifier = Sequential()"
   ]
  },
  {
   "cell_type": "code",
   "execution_count": null,
   "metadata": {},
   "outputs": [],
   "source": []
  },
  {
   "cell_type": "code",
   "execution_count": 42,
   "metadata": {},
   "outputs": [],
   "source": [
    "Y_pred = classifier.predict(X_test) # vector of prediction"
   ]
  },
  {
   "cell_type": "code",
   "execution_count": 43,
   "metadata": {},
   "outputs": [
    {
     "name": "stdout",
     "output_type": "stream",
     "text": [
      "[0 0 0 0 0 0 0 1 0 1 0 0 0 0 0 0 0 0 1 0 0 1 0 1 0 1 0 0 0 0 0 0 1 0 0 0 0\n",
      " 0 0 1 0 0 0 0 1 0 0 1 0 1 1 0 0 0 1 0 0 0 0 0 0 1 0 0 0 1 0 0 0 0 1 0 0 0\n",
      " 0 0 1 0 1 1 1 1 0 0 1 1 0 1 0 0 0 1 0 0 0 0 0 0 1 1]\n"
     ]
    }
   ],
   "source": [
    "print(Y_pred)"
   ]
  },
  {
   "cell_type": "markdown",
   "metadata": {},
   "source": [
    "#### Evaluate correletion"
   ]
  },
  {
   "cell_type": "code",
   "execution_count": 44,
   "metadata": {},
   "outputs": [],
   "source": [
    "from sklearn.metrics import confusion_matrix"
   ]
  },
  {
   "cell_type": "code",
   "execution_count": 45,
   "metadata": {},
   "outputs": [],
   "source": [
    "cm = confusion_matrix(Y_test, Y_pred)"
   ]
  },
  {
   "cell_type": "code",
   "execution_count": 46,
   "metadata": {},
   "outputs": [
    {
     "name": "stdout",
     "output_type": "stream",
     "text": [
      "[[65  3]\n",
      " [ 8 24]]\n"
     ]
    }
   ],
   "source": [
    "print(cm)"
   ]
  },
  {
   "cell_type": "markdown",
   "metadata": {},
   "source": [
    "#### Visualisation: Make a graph"
   ]
  },
  {
   "cell_type": "code",
   "execution_count": 33,
   "metadata": {},
   "outputs": [
    {
     "data": {
      "image/png": "[encoded data removed]",
      "text/plain": [
       "<matplotlib.figure.Figure at 0x7f97710a3438>"
      ]
     },
     "metadata": {},
     "output_type": "display_data"
    }
   ],
   "source": [
    "# Visualising the Training set results\n",
    "from matplotlib.colors import ListedColormap\n",
    "X_set, y_set = X_train, y_train\n",
    "X1, X2 = np.meshgrid(np.arange(start = X_set[:, 0].min() - 1, stop = X_set[:, 0].max() + 1, step = 0.01),\n",
    "                     np.arange(start = X_set[:, 1].min() - 1, stop = X_set[:, 1].max() + 1, step = 0.01))\n",
    "plt.contourf(X1, X2, classifier.predict(np.array([X1.ravel(), X2.ravel()]).T).reshape(X1.shape),\n",
    "             alpha = 0.75, cmap = ListedColormap(('red', 'green')))\n",
    "plt.xlim(X1.min(), X1.max())\n",
    "plt.ylim(X2.min(), X2.max())\n",
    "for i, j in enumerate(np.unique(y_set)):\n",
    "    plt.scatter(X_set[y_set == j, 0], X_set[y_set == j, 1],\n",
    "                c = ListedColormap(('red', 'green'))(i), label = j)\n",
    "plt.title('Classifier (Training set)')\n",
    "plt.xlabel('Age')\n",
    "plt.ylabel('Estimated Salary')\n",
    "plt.legend()\n",
    "plt.show()"
   ]
  },
  {
   "cell_type": "code",
   "execution_count": 47,
   "metadata": {},
   "outputs": [
    {
     "data": {
      "image/png": "[encoded data removed]",
      "text/plain": [
       "<matplotlib.figure.Figure at 0x7f9770a03390>"
      ]
     },
     "metadata": {},
     "output_type": "display_data"
    }
   ],
   "source": [
    "from matplotlib.colors import ListedColormap\n",
    "X_set, y_set = X_test, y_test\n",
    "X1, X2 = np.meshgrid(np.arange(start = X_set[:, 0].min() - 1, stop = X_set[:, 0].max() + 1, step = 0.01),\n",
    "                     np.arange(start = X_set[:, 1].min() - 1, stop = X_set[:, 1].max() + 1, step = 0.01))\n",
    "plt.contourf(X1, X2, classifier.predict(np.array([X1.ravel(), X2.ravel()]).T).reshape(X1.shape),\n",
    "             alpha = 0.75, cmap = ListedColormap(('red', 'green')))\n",
    "plt.xlim(X1.min(), X1.max())\n",
    "plt.ylim(X2.min(), X2.max())\n",
    "for i, j in enumerate(np.unique(y_set)):\n",
    "    plt.scatter(X_set[y_set == j, 0], X_set[y_set == j, 1],\n",
    "                c = ListedColormap(('red', 'green'))(i), label = j)\n",
    "plt.title('Classifier (Test set)')\n",
    "plt.xlabel('Age')\n",
    "plt.ylabel('Estimated Salary')\n",
    "plt.legend()\n",
    "plt.show()"
   ]
  },
  {
   "cell_type": "code",
   "execution_count": null,
   "metadata": {},
   "outputs": [],
   "source": []
  }
 ],
 "metadata": {
  "kernelspec": {
   "display_name": "Python 3",
   "language": "python",
   "name": "python3"
  },
  "language_info": {
   "codemirror_mode": {
    "name": "ipython",
    "version": 3
   },
   "file_extension": ".py",
   "mimetype": "text/x-python",
   "name": "python",
   "nbconvert_exporter": "python",
   "pygments_lexer": "ipython3",
   "version": "3.6.5"
  },
  "varInspector": {
   "cols": {
    "lenName": 16,
    "lenType": 16,
    "lenVar": 40
   },
   "kernels_config": {
    "python": {
     "delete_cmd_postfix": "",
     "delete_cmd_prefix": "del ",
     "library": "var_list.py",
     "varRefreshCmd": "print(var_dic_list())"
    },
    "r": {
     "delete_cmd_postfix": ") ",
     "delete_cmd_prefix": "rm(",
     "library": "var_list.r",
     "varRefreshCmd": "cat(var_dic_list()) "
    }
   },
   "oldHeight": 261,
   "position": {
    "height": "317px",
    "left": "1209px",
    "right": "72px",
    "top": "420px",
    "width": "572px"
   },
   "types_to_exclude": [
    "module",
    "function",
    "builtin_function_or_method",
    "instance",
    "_Feature"
   ],
   "varInspector_section_display": "block",
   "window_display": false
  }
 },
 "nbformat": 4,
 "nbformat_minor": 2
}
